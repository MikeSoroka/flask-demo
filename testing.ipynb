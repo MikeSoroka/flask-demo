{
 "cells": [
  {
   "metadata": {
    "ExecuteTime": {
     "end_time": "2024-05-02T14:26:54.769053Z",
     "start_time": "2024-05-02T14:26:54.762895Z"
    }
   },
   "cell_type": "code",
   "source": [
    "special_attributes = {\"key\": [{1: 'Introduction to Programming - Control Flow Statements'},\n",
    " {2: 'Introduction to Programming - Functions and Procedures'}, {3: 'Data Analysis with Python - Introduction to Libraries'}, \n",
    " {4: 'Data Analysis with Python - Data Cleaning and Manipulation'}, {5: 'Data Analysis with Python - Exploratory Data Analysis'}, {6: 'Creative Writing Techniques - Character Development'}, {7: 'Creative Writing Techniques - Crafting Dialogue and Point of View'}, {8: 'Creative Writing Techniques - Building a Compelling Plot'}, {10: 'Web Development Fundamentals - Introduction to JavaScript'}, {11: 'Web Development Fundamentals - Building Interactive Web Applications'}, {12: 'Digital Marketing Strategies - Content Marketing Essentials'}, {13: 'Digital Marketing Strategies - Social Media Marketing for Beginners'}, {14: 'Digital Marketing Strategies - Email Marketing Techniques'}, {15: 'Project Management Fundamentals - Introduction to Project Planning'}, {16: 'Project Management Fundamentals - Task Management and Delegation'}, {17: 'Project Management Fundamentals - Effective Communication for Projects'}, {19: 'Public Speaking for Professionals - Crafting a Captivating Presentation'}]}"
   ],
   "id": "73520fb0f24181bb",
   "outputs": [],
   "execution_count": 4
  },
  {
   "metadata": {
    "ExecuteTime": {
     "end_time": "2024-05-02T14:26:54.779771Z",
     "start_time": "2024-05-02T14:26:54.775520Z"
    }
   },
   "cell_type": "code",
   "source": [
    "test_dict = {\"1\": \"dsdas\",\n",
    "             \"2\": \"nah\",\n",
    "             \"3\": \"test\"}"
   ],
   "id": "26f49671a8f768e8",
   "outputs": [],
   "execution_count": 5
  },
  {
   "metadata": {
    "ExecuteTime": {
     "end_time": "2024-05-02T14:26:54.795540Z",
     "start_time": "2024-05-02T14:26:54.792539Z"
    }
   },
   "cell_type": "code",
   "source": [
    "dict2 = {3: \"aboba\",\n",
    "         4: \"kkal\",\n",
    "         5: \"something\"}"
   ],
   "id": "794d5b8ab2046c7f",
   "outputs": [],
   "execution_count": 6
  },
  {
   "metadata": {
    "ExecuteTime": {
     "end_time": "2024-05-02T14:27:46.135694Z",
     "start_time": "2024-05-02T14:27:46.131271Z"
    }
   },
   "cell_type": "code",
   "source": "print(test_dict | dict2)",
   "id": "535eddc28724531c",
   "outputs": [
    {
     "name": "stdout",
     "output_type": "stream",
     "text": [
      "{'1': 'dsdas', '2': 'nah', '3': 'test', 3: 'aboba', 4: 'kkal', 5: 'something'}\n"
     ]
    }
   ],
   "execution_count": 8
  },
  {
   "metadata": {
    "ExecuteTime": {
     "end_time": "2024-05-02T22:10:53.783613Z",
     "start_time": "2024-05-02T22:10:53.780504Z"
    }
   },
   "cell_type": "code",
   "source": [
    "for i in dict2:\n",
    "    print(i)"
   ],
   "id": "962c5923396421e1",
   "outputs": [
    {
     "name": "stdout",
     "output_type": "stream",
     "text": [
      "3\n",
      "4\n",
      "5\n"
     ]
    }
   ],
   "execution_count": 9
  },
  {
   "metadata": {},
   "cell_type": "code",
   "outputs": [],
   "execution_count": null,
   "source": "",
   "id": "2dd528453823173c"
  }
 ],
 "metadata": {
  "kernelspec": {
   "display_name": "Python 3",
   "language": "python",
   "name": "python3"
  },
  "language_info": {
   "codemirror_mode": {
    "name": "ipython",
    "version": 2
   },
   "file_extension": ".py",
   "mimetype": "text/x-python",
   "name": "python",
   "nbconvert_exporter": "python",
   "pygments_lexer": "ipython2",
   "version": "2.7.6"
  }
 },
 "nbformat": 4,
 "nbformat_minor": 5
}
